{
 "cells": [
  {
   "cell_type": "code",
   "execution_count": null,
   "id": "c603494f",
   "metadata": {},
   "outputs": [],
   "source": [
    "\n",
    "import pandas as pd\n",
    "\n",
    "# Caminho para o arquivo CSV\n",
    "arquivo_csv = 'TabelaQueimadasBrazil.csv'\n",
    "\n",
    "# Lê o arquivo CSV com codificação adequada\n",
    "tabela = pd.read_csv(arquivo_csv, encoding='latin1')\n",
    "\n",
    "# Imprime as 25 primeiras linhas da tabela\n",
    "print(tabela.head(25))"
   ]
  }
 ],
 "metadata": {
  "kernelspec": {
   "display_name": "Python 3",
   "language": "python",
   "name": "python3"
  },
  "language_info": {
   "codemirror_mode": {
    "name": "ipython",
    "version": 3
   },
   "file_extension": ".py",
   "mimetype": "text/x-python",
   "name": "python",
   "nbconvert_exporter": "python",
   "pygments_lexer": "ipython3",
   "version": "3.13.3"
  }
 },
 "nbformat": 4,
 "nbformat_minor": 5
}
